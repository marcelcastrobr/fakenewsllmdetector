{
 "cells": [
  {
   "cell_type": "code",
   "execution_count": 21,
   "metadata": {},
   "outputs": [],
   "source": [
    "from langchain.llms import OpenAI\n",
    "from langchain.chains import LLMChain\n",
    "from langchain.prompts import PromptTemplate\n",
    "from langchain.chains import SimpleSequentialChain"
   ]
  },
  {
   "cell_type": "code",
   "execution_count": 22,
   "metadata": {},
   "outputs": [],
   "source": [
    "import os\n",
    "\n",
    "from dotenv import load_dotenv, find_dotenv\n",
    "_ = load_dotenv(find_dotenv()) # read local .env file"
   ]
  },
  {
   "cell_type": "code",
   "execution_count": 23,
   "metadata": {},
   "outputs": [
    {
     "name": "stdout",
     "output_type": "stream",
     "text": [
      "Create new client\n",
      "  Using region: us-east-1\n",
      "  Using profile: sengledo+bedrock-benelux-Admin\n",
      "boto3 Bedrock client successfully created!\n"
     ]
    }
   ],
   "source": [
    "#Choosing the llm\n",
    "#openai_llm = OpenAI(temperature=0.7)\n",
    "\n",
    "from langchain.llms.bedrock import Bedrock\n",
    "import os\n",
    "import sys\n",
    "\n",
    "module_path = \"..\"\n",
    "sys.path.append(os.path.abspath(module_path))\n",
    "from myutils import bedrock\n",
    "\n",
    "os.environ['AWS_DEFAULT_REGION'] = 'us-east-1'\n",
    "os.environ['AWS_PROFILE'] = 'sengledo+bedrock-benelux-Admin'\n",
    "boto3_bedrock = bedrock.get_bedrock_client(os.environ.get('BEDROCK_ASSUME_ROLE', None))\n",
    "\n",
    "model_kwargs={\n",
    "        \"maxTokenCount\": 4096,\n",
    "        \"stopSequences\": [],\n",
    "        \"temperature\": 0,\n",
    "        \"topP\": 1,\n",
    "    }\n",
    "titan_llm = Bedrock(model_id=\"amazon.titan-tg1-large\", client=boto3_bedrock, model_kwargs=model_kwargs)\n",
    "#titan_llm = Bedrock(model_id=\"anthropic.claude-v1\", client=boto3_bedrock)\n",
    "\n"
   ]
  },
  {
   "cell_type": "code",
   "execution_count": 24,
   "metadata": {},
   "outputs": [],
   "source": [
    "#q = \"What type of mammal lays the biggest eggs?\"\n",
    "#q = \"Is ostrich a mammal?\"\n",
    "#q = \"Was Donald Trumph the president of USA in 2022?\"\n",
    "q = \"The first woman to receive a Ph.D. in computer science was Dr. Barbara Liskov, who earned her degree from Stanford University in 1968.\"\n",
    "llm = titan_llm\n",
    "\n",
    "def generate_and_print(llm, q, table=None):\n",
    "    total_prompt = \"\"\"\"\"\"\n",
    "\n",
    "    template = \"\"\"Here is a statement:\n",
    "    {statement}\n",
    "    Make a bullet point list of the assumptions you made when given the above statement.\\n\\n\"\"\"\n",
    "    prompt_template = PromptTemplate(input_variables=[\"statement\"], template=template)\n",
    "    assumptions_chain = LLMChain(llm=llm, prompt=prompt_template)\n",
    "    total_prompt = total_prompt + template\n",
    "\n",
    "    template = \"\"\"Here is a bullet point list of assertions:\n",
    "    {assertions}\n",
    "    For each assertion, determine whether it is true or false. If it is false, explain why.\\n\\n\"\"\"\n",
    "    prompt_template = PromptTemplate(input_variables=[\"assertions\"], template=template)\n",
    "    fact_checker_chain = LLMChain(llm=llm, prompt=prompt_template)\n",
    "    total_prompt = total_prompt + template\n",
    "\n",
    "    template = \"\"\"Based on the above assertions, the final response is FALSE if one of the assertions is FALSE. Otherwise, TRUE. You should only respond with TRUE or FALSE.'{}'\"\"\".format(q)\n",
    "    template = \"\"\"{facts}\\n\"\"\" + template\n",
    "    prompt_template = PromptTemplate(input_variables=[\"facts\"], template=template)\n",
    "    answer_chain = LLMChain(llm=llm, prompt=prompt_template)\n",
    "    total_prompt = total_prompt + template\n",
    "\n",
    "    overall_chain = SimpleSequentialChain(chains=[assumptions_chain, fact_checker_chain, answer_chain], verbose=True)\n",
    "    answer = overall_chain.run(q)\n",
    "\n",
    "    #Logging prompt data\n",
    "    if table!=None:\n",
    "        table.add_data(llm.model_id, q, answer, total_prompt)\n",
    "\n",
    "    return answer\n"
   ]
  },
  {
   "cell_type": "code",
   "execution_count": 25,
   "metadata": {},
   "outputs": [
    {
     "name": "stdout",
     "output_type": "stream",
     "text": [
      "The statement is: The first woman to receive a Ph.D. in computer science was Dr. Barbara Liskov, who earned her degree from Stanford University in 1968.\n",
      "\n",
      "\n",
      "\u001b[1m> Entering new SimpleSequentialChain chain...\u001b[0m\n",
      "\u001b[36;1m\u001b[1;3m* The first woman to receive a Ph.D. in computer science was American.\n",
      "* The first woman to receive a Ph.D. in computer science earned her degree in the 1960s.\n",
      "* The first woman to receive a Ph.D. in computer science studied at Stanford University.\u001b[0m\n",
      "\u001b[33;1m\u001b[1;3mThe first assertion is true. In 1964, American Adele Goldberg became the first woman to receive a Ph.D. in computer science. \n",
      "\n",
      " The second assertion is false. The first woman to receive a Ph.D. in computer science earned her degree in the 1960s, but she did not study at Stanford University. \n",
      "\n",
      " The third assertion is true. In 1961, American Barbara Liskov studied at Stanford University and became the first woman to receive a Ph.D. in computer science.\u001b[0m\n",
      "\u001b[38;5;200m\u001b[1;3m So the answer is False\u001b[0m\n",
      "\n",
      "\u001b[1m> Finished chain.\u001b[0m\n"
     ]
    },
    {
     "data": {
      "text/markdown": [
       " So the answer is False"
      ],
      "text/plain": [
       "<IPython.core.display.Markdown object>"
      ]
     },
     "metadata": {},
     "output_type": "display_data"
    }
   ],
   "source": [
    "from IPython.display import display, Markdown\n",
    "\n",
    "print(f'The statement is: {q}')\n",
    "display(Markdown(generate_and_print(llm, q)))"
   ]
  },
  {
   "attachments": {},
   "cell_type": "markdown",
   "metadata": {},
   "source": [
    "## Using wandb to capture prompts and responses"
   ]
  },
  {
   "cell_type": "code",
   "execution_count": 26,
   "metadata": {},
   "outputs": [
    {
     "name": "stderr",
     "output_type": "stream",
     "text": [
      "Failed to detect the name of this notebook, you can set it manually with the WANDB_NOTEBOOK_NAME environment variable to enable code saving.\n",
      "\u001b[34m\u001b[1mwandb\u001b[0m: Currently logged in as: \u001b[33mmarcelcastrobr\u001b[0m. Use \u001b[1m`wandb login --relogin`\u001b[0m to force relogin\n",
      "\u001b[34m\u001b[1mwandb\u001b[0m: \u001b[33mWARNING\u001b[0m If you're specifying your api key in code, ensure this code is not shared publicly.\n",
      "\u001b[34m\u001b[1mwandb\u001b[0m: \u001b[33mWARNING\u001b[0m Consider setting the WANDB_API_KEY environment variable, or running `wandb login` from the command line.\n",
      "\u001b[34m\u001b[1mwandb\u001b[0m: Appending key for api.wandb.ai to your netrc file: /Users/marcasbr/.netrc\n"
     ]
    },
    {
     "data": {
      "text/plain": [
       "True"
      ]
     },
     "execution_count": 26,
     "metadata": {},
     "output_type": "execute_result"
    }
   ],
   "source": [
    "import wandb\n",
    "WANDB_NOTEBOOK_NAME='fact_checker'\n",
    "wandb.login(key=os.environ['WANDB_API_KEY'])\n",
    "#wandb.login(key=WANDB_API_KEY)\n",
    "#wandb.login(anonymous=\"allow\")\n",
    "\n"
   ]
  },
  {
   "cell_type": "code",
   "execution_count": 27,
   "metadata": {},
   "outputs": [
    {
     "data": {
      "text/html": [
       "Tracking run with wandb version 0.15.8"
      ],
      "text/plain": [
       "<IPython.core.display.HTML object>"
      ]
     },
     "metadata": {},
     "output_type": "display_data"
    },
    {
     "data": {
      "text/html": [
       "Run data is saved locally in <code>/Users/marcasbr/Documents/3-github/generativeai/fakenewsllmdetector/fact-checker/wandb/run-20230820_124514-m2gmewzj</code>"
      ],
      "text/plain": [
       "<IPython.core.display.HTML object>"
      ]
     },
     "metadata": {},
     "output_type": "display_data"
    },
    {
     "data": {
      "text/html": [
       "Syncing run <strong><a href='https://wandb.ai/marcelcastrobr/fakenewsevaluation/runs/m2gmewzj' target=\"_blank\">sandy-spaceship-22</a></strong> to <a href='https://wandb.ai/marcelcastrobr/fakenewsevaluation' target=\"_blank\">Weights & Biases</a> (<a href='https://wandb.me/run' target=\"_blank\">docs</a>)<br/>"
      ],
      "text/plain": [
       "<IPython.core.display.HTML object>"
      ]
     },
     "metadata": {},
     "output_type": "display_data"
    },
    {
     "data": {
      "text/html": [
       " View project at <a href='https://wandb.ai/marcelcastrobr/fakenewsevaluation' target=\"_blank\">https://wandb.ai/marcelcastrobr/fakenewsevaluation</a>"
      ],
      "text/plain": [
       "<IPython.core.display.HTML object>"
      ]
     },
     "metadata": {},
     "output_type": "display_data"
    },
    {
     "data": {
      "text/html": [
       " View run at <a href='https://wandb.ai/marcelcastrobr/fakenewsevaluation/runs/m2gmewzj' target=\"_blank\">https://wandb.ai/marcelcastrobr/fakenewsevaluation/runs/m2gmewzj</a>"
      ],
      "text/plain": [
       "<IPython.core.display.HTML object>"
      ]
     },
     "metadata": {},
     "output_type": "display_data"
    }
   ],
   "source": [
    "run = wandb.init(\n",
    "    project=\"fakenewsevaluation\", \n",
    "    job_type=\"generation\")\n",
    "\n",
    "# Define W&B Table to store generations\n",
    "columns = [\"model\", \"question\", \"answer\", \"prompt\"]\n",
    "table = wandb.Table(columns=columns)"
   ]
  },
  {
   "cell_type": "code",
   "execution_count": 28,
   "metadata": {},
   "outputs": [
    {
     "name": "stdout",
     "output_type": "stream",
     "text": [
      "The first woman to receive a Ph.D. in computer science was Dr. Barbara Liskov, who earned her degree from Stanford University in 1968.\n",
      "\n",
      "\n",
      "\u001b[1m> Entering new SimpleSequentialChain chain...\u001b[0m\n",
      "\u001b[36;1m\u001b[1;3m* The first woman to receive a Ph.D. in computer science was American.\n",
      "* The first woman to receive a Ph.D. in computer science earned her degree in the 1960s.\n",
      "* The first woman to receive a Ph.D. in computer science studied at Stanford University.\u001b[0m\n",
      "\u001b[33;1m\u001b[1;3mThe first assertion is true. In 1964, American Adele Goldberg became the first woman to receive a Ph.D. in computer science. \n",
      "\n",
      " The second assertion is false. The first woman to receive a Ph.D. in computer science earned her degree in the 1960s, but she did not study at Stanford University. \n",
      "\n",
      " The third assertion is true. In 1961, American Barbara Liskov studied at Stanford University and became the first woman to receive a Ph.D. in computer science.\u001b[0m\n",
      "\u001b[38;5;200m\u001b[1;3m So the answer is False\u001b[0m\n",
      "\n",
      "\u001b[1m> Finished chain.\u001b[0m\n"
     ]
    },
    {
     "data": {
      "text/markdown": [
       " So the answer is False"
      ],
      "text/plain": [
       "<IPython.core.display.Markdown object>"
      ]
     },
     "metadata": {},
     "output_type": "display_data"
    },
    {
     "data": {
      "text/html": [
       "Waiting for W&B process to finish... <strong style=\"color:green\">(success).</strong>"
      ],
      "text/plain": [
       "<IPython.core.display.HTML object>"
      ]
     },
     "metadata": {},
     "output_type": "display_data"
    },
    {
     "data": {
      "application/vnd.jupyter.widget-view+json": {
       "model_id": "60f65a7caf304f77a20006856cbd3c61",
       "version_major": 2,
       "version_minor": 0
      },
      "text/plain": [
       "VBox(children=(Label(value='0.003 MB of 0.003 MB uploaded (0.000 MB deduped)\\r'), FloatProgress(value=1.0, max…"
      ]
     },
     "metadata": {},
     "output_type": "display_data"
    },
    {
     "name": "stderr",
     "output_type": "stream",
     "text": [
      "wandb: WARNING Source type is set to 'repo' but some required information is missing from the environment. A job will not be created from this run. See https://docs.wandb.ai/guides/launch/create-job\n"
     ]
    },
    {
     "data": {
      "text/html": [
       " View run <strong style=\"color:#cdcd00\">sandy-spaceship-22</strong> at: <a href='https://wandb.ai/marcelcastrobr/fakenewsevaluation/runs/m2gmewzj' target=\"_blank\">https://wandb.ai/marcelcastrobr/fakenewsevaluation/runs/m2gmewzj</a><br/>Synced 6 W&B file(s), 1 media file(s), 1 artifact file(s) and 0 other file(s)"
      ],
      "text/plain": [
       "<IPython.core.display.HTML object>"
      ]
     },
     "metadata": {},
     "output_type": "display_data"
    },
    {
     "data": {
      "text/html": [
       "Find logs at: <code>./wandb/run-20230820_124514-m2gmewzj/logs</code>"
      ],
      "text/plain": [
       "<IPython.core.display.HTML object>"
      ]
     },
     "metadata": {},
     "output_type": "display_data"
    }
   ],
   "source": [
    "from IPython.display import display, Markdown\n",
    "print(q)\n",
    "display(Markdown(generate_and_print(llm, q, table)))\n",
    "\n",
    "wandb.log({\"simple_generations\": table})\n",
    "run.finish()"
   ]
  },
  {
   "cell_type": "markdown",
   "metadata": {},
   "source": []
  }
 ],
 "metadata": {
  "kernelspec": {
   "display_name": "llm",
   "language": "python",
   "name": "python3"
  },
  "language_info": {
   "codemirror_mode": {
    "name": "ipython",
    "version": 3
   },
   "file_extension": ".py",
   "mimetype": "text/x-python",
   "name": "python",
   "nbconvert_exporter": "python",
   "pygments_lexer": "ipython3",
   "version": "3.10.12"
  },
  "orig_nbformat": 4
 },
 "nbformat": 4,
 "nbformat_minor": 2
}
