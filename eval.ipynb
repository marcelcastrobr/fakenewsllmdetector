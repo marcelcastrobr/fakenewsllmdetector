{
 "cells": [
  {
   "attachments": {},
   "cell_type": "markdown",
   "metadata": {},
   "source": [
    "# Evaluation of FactCheck (CoT) and ReAct (CoT+Agents)"
   ]
  },
  {
   "cell_type": "code",
   "execution_count": 1,
   "metadata": {},
   "outputs": [],
   "source": [
    "import pandas as pd\n",
    "import json"
   ]
  },
  {
   "attachments": {},
   "cell_type": "markdown",
   "metadata": {},
   "source": [
    "## Results for Amazon Titan"
   ]
  },
  {
   "cell_type": "code",
   "execution_count": 2,
   "metadata": {},
   "outputs": [
    {
     "name": "stdout",
     "output_type": "stream",
     "text": [
      "Number of matching lines: 17/50\n",
      "Number of matching lines: 20/50\n"
     ]
    },
    {
     "data": {
      "text/plain": [
       "[17, 20]"
      ]
     },
     "execution_count": 2,
     "metadata": {},
     "output_type": "execute_result"
    }
   ],
   "source": [
    "#factcheck\n",
    "def transform_to_boolean(value):\n",
    "    if 'false' in value.lower():\n",
    "        return False\n",
    "    elif 'true' in value.lower():\n",
    "        return True\n",
    "    else:\n",
    "        return value\n",
    "    \n",
    "def count_matching_lines(dataframe):\n",
    "    count = sum(dataframe['answer'] == dataframe['label'])\n",
    "    return count\n",
    "\n",
    "def evaluate_run(filename):\n",
    "    # Load JSON data from the file\n",
    "    with open(filename, 'r') as file:\n",
    "        json_data = json.load(file)\n",
    "\n",
    "    df = pd.DataFrame(json_data['data'], columns=json_data['columns'])\n",
    "\n",
    "    # Apply the transformation function to the third column\n",
    "    df['answer'] = df['answer'].apply(transform_to_boolean)\n",
    "\n",
    "    selected_columns = df.iloc[:, [0, 2, 3]]\n",
    "    #print(selected_columns)\n",
    "\n",
    "    # Get the count of matching lines\n",
    "    matching_lines_count = count_matching_lines(df)\n",
    "\n",
    "    print(f'Number of matching lines: {matching_lines_count}/{df.shape[0]}')\n",
    "    return df\n",
    "\n",
    "factcheck = 'fact-checker/wandb/run-20230827_082658-93t9woap/files/media/table/fakenews_generations_50_18d7a8ca7a4859a73926.table.json'\n",
    "factcheck_titan = evaluate_run(factcheck)\n",
    "\n",
    "react = 'react/wandb/run-20230827_082803-c6pmv1y1/files/media/table/fakenews_generations_50_87c144b7e201e28e3c53.table.json'\n",
    "react_titan = evaluate_run(react)\n",
    "\n",
    "\n",
    "result_titan = [count_matching_lines(factcheck_titan), count_matching_lines(react_titan)]\n",
    "result_titan\n"
   ]
  },
  {
   "cell_type": "code",
   "execution_count": 3,
   "metadata": {},
   "outputs": [
    {
     "data": {
      "image/png": "[encoded data removed]",
      "text/plain": [
       "<Figure size 432x288 with 1 Axes>"
      ]
     },
     "metadata": {
      "needs_background": "light"
     },
     "output_type": "display_data"
    }
   ],
   "source": [
    "# Plotting values\n",
    "import matplotlib.pyplot as plt\n",
    "dataset_size = react_titan.shape[0]\n",
    "\n",
    "def plot_bar_chart(x_labels, values):\n",
    "    plt.bar(x_labels, values, color='blue', alpha=0.7)\n",
    "    plt.xlabel('Solution Type')\n",
    "    plt.ylabel('dataset_size')\n",
    "    plt.title('Number of Correct Facts')\n",
    "    plt.grid(True)\n",
    "    # Set the maximum value on the y-axis\n",
    "    plt.ylim(0, dataset_size)\n",
    "    plt.show()\n",
    "\n",
    "# Example input: categories and corresponding values\n",
    "categories = ['factcheck', 'react']\n",
    "values = result_titan\n",
    "\n",
    "plot_bar_chart(categories, values)"
   ]
  },
  {
   "attachments": {},
   "cell_type": "markdown",
   "metadata": {},
   "source": [
    "## Results for Anthropic Claude"
   ]
  },
  {
   "cell_type": "code",
   "execution_count": 4,
   "metadata": {},
   "outputs": [
    {
     "name": "stdout",
     "output_type": "stream",
     "text": [
      "Number of matching lines: 23/50\n",
      "Number of matching lines: 25/50\n",
      "Number of matching lines: 31/50\n",
      "Number of matching lines: 23/50\n",
      "Number of matching lines: 5/50\n"
     ]
    }
   ],
   "source": [
    "def transform_to_boolean(value):\n",
    "    if 'false' in value.lower():\n",
    "        return False\n",
    "    elif 'true' in value.lower():\n",
    "        return True\n",
    "    else:\n",
    "        return value\n",
    "    \n",
    "def count_matching_lines(dataframe):\n",
    "    count = sum(dataframe['answer'] == dataframe['label'])\n",
    "    return count\n",
    "\n",
    "def evaluate_run(filename):\n",
    "    # Load JSON data from the file\n",
    "    with open(filename, 'r') as file:\n",
    "        json_data = json.load(file)\n",
    "\n",
    "    df = pd.DataFrame(json_data['data'], columns=json_data['columns'])\n",
    "\n",
    "    # Apply the transformation function to the third column\n",
    "    df['answer'] = df['answer'].apply(transform_to_boolean)\n",
    "\n",
    "    selected_columns = df.iloc[:, [0, 2, 3]]\n",
    "    #print(selected_columns)\n",
    "\n",
    "    # Get the count of matching lines\n",
    "    matching_lines_count = count_matching_lines(df)\n",
    "\n",
    "    print(f'Number of matching lines: {matching_lines_count}/{df.shape[0]}')\n",
    "    return df\n",
    "\n",
    "factcheck_claude = './wandb/run-20230827_161119-rcmczg06/files/media/table/fakenews_generations_50_a8f121d09da9e6554c9f.table.json'\n",
    "factcheck_claude = evaluate_run(factcheck_claude)\n",
    "\n",
    "react_claude='./wandb/run-20230827_161052-bg62yukh/files/media/table/fakenews_generations_50_06a27af927bf89d64b09.table.json'\n",
    "react_claude = evaluate_run(react_claude)\n",
    "\n",
    "result_claude = [count_matching_lines(factcheck_claude), count_matching_lines(react_claude)]\n",
    "\n",
    "#Open AI\n",
    "factcheck_gpt35turbo = './fact-checker/wandb/run-20230828_085918-jhbn610i/files/media/table/fakenews_generations_50_7e14600a228d1a522cd3.table.json'\n",
    "factcheck_gpt35turbo = evaluate_run(factcheck_gpt35turbo)\n",
    "\n",
    "#Titan\n",
    "#factcheck_titan-tg1-xlarge ./wandb/run-20230829_155257-tql50yaf/logs\n",
    "factcheck_titan_tg1_xlarge = './fact-checker/wandb/run-20230829_155257-tql50yaf/files/media/table/fakenews_generations_50_6afa28c507d076735fa6.table.json'\n",
    "factcheck_titan_tg1_xlarge = evaluate_run(factcheck_titan_tg1_xlarge)\n",
    "\n",
    "#react_titan_tg1_xlarge ./wandb/run-20230829_160729-edjw7yv2/logs\n",
    "#react_titan_tg1_xlarge = './react/wandb/run-20230829_160729-edjw7yv2/files/media/table/fakenews_generations_50_6255b307153da32d899f.table.json'\n",
    "#react_titan_tg1_xlarge = evaluate_run(react_titan_tg1_xlarge)\n",
    "\n",
    "#react_titan_tg1_xlarge (2023-09-06)\n",
    "#./wandb/run-20230906_085051-eooadkte/logs\n",
    "react_titan_tg1_xlarge = './wandb/run-20230906_085051-eooadkte/files/media/table/fakenews_generations_50_5970662fd4cbb322db5d.table.json'\n",
    "react_titan_tg1_xlarge = evaluate_run(react_titan_tg1_xlarge)\n",
    "\n",
    "result_titan_tg1_xlarge = [count_matching_lines(factcheck_titan_tg1_xlarge), count_matching_lines(react_titan_tg1_xlarge)]\n",
    "\n"
   ]
  },
  {
   "cell_type": "code",
   "execution_count": 8,
   "metadata": {},
   "outputs": [
    {
     "name": "stdout",
     "output_type": "stream",
     "text": [
      "[23, 5]\n"
     ]
    }
   ],
   "source": [
    "print(result_titan_tg1_xlarge)"
   ]
  },
  {
   "attachments": {},
   "cell_type": "markdown",
   "metadata": {},
   "source": [
    "## Comparing Models and Strategies"
   ]
  },
  {
   "cell_type": "code",
   "execution_count": 11,
   "metadata": {},
   "outputs": [
    {
     "data": {
      "image/png": "[encoded data removed]",
      "text/plain": [
       "<Figure size 432x288 with 1 Axes>"
      ]
     },
     "metadata": {
      "needs_background": "light"
     },
     "output_type": "display_data"
    }
   ],
   "source": [
    "import matplotlib.pyplot as plt\n",
    "\n",
    "def plot_class_values(classes, values1, values2, value3):\n",
    "    bar_width = 0.35  # Width of each bar\n",
    "    \n",
    "    fig, ax = plt.subplots()\n",
    "    index = range(len(classes))\n",
    "    \n",
    "    bars1 = ax.bar(index, values1, bar_width, label='amazon-titan')\n",
    "    bars2 = ax.bar([i + bar_width for i in index], values2, bar_width, label='amazon-titan-xlarge')\n",
    "    bars3 = ax.bar([i + bar_width for i in index], values3, bar_width, label='anthropic-claude')\n",
    "\n",
    "    \n",
    "    ax.set_xlabel('Solution Type')\n",
    "    ax.set_ylabel('dataset_size')\n",
    "    ax.set_title('Number of Correct Facts')\n",
    "\n",
    "    ax.set_xticks([i + bar_width/2 for i in index])\n",
    "    ax.set_xticklabels(classes)\n",
    "    ax.legend()\n",
    "    ax.grid(True)\n",
    "    # Set the maximum value on the y-axis\n",
    "    plt.ylim(0, 50)\n",
    "    \n",
    "    plt.show()\n",
    "\n",
    "# Example input: class names, value sets for Value 1 and Value 2\n",
    "classes = ['factcheck', 'react']\n",
    "#values1 = [10, 25]\n",
    "values1 = result_titan\n",
    "#values2 = [20, 15]\n",
    "values2 = result_titan_tg1_xlarge\n",
    "values3 = result_claude\n",
    "\n",
    "plot_class_values(classes, values1, values2, values3)"
   ]
  },
  {
   "cell_type": "code",
   "execution_count": null,
   "metadata": {},
   "outputs": [],
   "source": []
  },
  {
   "attachments": {},
   "cell_type": "markdown",
   "metadata": {},
   "source": [
    "# Make use of YAML for evaluation\n",
    "Ref. https://neptune.ai/blog/how-to-manage-track-visualize-hyperparameters\n",
    "https://www.youtube.com/watch?v=7EcznH0-of8\n",
    "\n",
    "\n",
    "# Test Self-consistent approach\n",
    "https://arxiv.org/pdf/2203.11171.pdf\n",
    "\n",
    "\n",
    "# Finish youtube\n",
    "https://www.youtube.com/watch?v=7EcznH0-of8\n",
    "\n",
    "# Check\n",
    "https://garystafford.medium.com/quantitative-evaluation-of-rag-based-question-answering-chatbot-llm-responses-b833d147f8e6\n",
    "\n",
    "# Add OpenAI results using fact-check at ./wandb/run-20230828_085918-jhbn610i/logs"
   ]
  },
  {
   "cell_type": "markdown",
   "metadata": {},
   "source": []
  },
  {
   "cell_type": "markdown",
   "metadata": {},
   "source": []
  }
 ],
 "metadata": {
  "kernelspec": {
   "display_name": "bedrock",
   "language": "python",
   "name": "python3"
  },
  "language_info": {
   "codemirror_mode": {
    "name": "ipython",
    "version": 3
   },
   "file_extension": ".py",
   "mimetype": "text/x-python",
   "name": "python",
   "nbconvert_exporter": "python",
   "pygments_lexer": "ipython3",
   "version": "3.10.12"
  },
  "orig_nbformat": 4
 },
 "nbformat": 4,
 "nbformat_minor": 2
}
